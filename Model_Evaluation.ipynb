{
 "cells": [
  {
   "cell_type": "code",
   "execution_count": 4,
   "metadata": {},
   "outputs": [
    {
     "name": "stdout",
     "output_type": "stream",
     "text": [
      "Existing columns: Index(['City', 'car_links', 'fuel_type', 'body_type', 'kilometers_driven',\n",
      "       'transmission', 'owner', 'oem', 'model', 'year', 'variant', 'price',\n",
      "       'registration_year', 'insurance_validity', 'fuel_type_overview',\n",
      "       'seats', 'kms_driven', 'rto', 'comfort_convenience',\n",
      "       'interior_features', 'exterior_features', 'safety_features',\n",
      "       'entertainment_features', 'mileage', 'engine', 'max_power', 'torque',\n",
      "       'wheel_size', 'bhp', 'rpm', 'consolidated_data'],\n",
      "      dtype='object')\n",
      "Column 'other_column' does not exist in the DataFrame.\n",
      "Modified data saved to C:\\Users\\sonur\\OneDrive\\Desktop\\Car_Dheko\\Model_Eva.csv\n"
     ]
    }
   ],
   "source": [
    "import pandas as pd\n",
    "from sklearn.preprocessing import LabelEncoder\n",
    "\n",
    "# Load your data\n",
    "df = pd.read_csv(r\"C:\\Users\\sonur\\OneDrive\\Desktop\\Car_Dheko\\Merged_car\\merged_car.csv\")\n",
    "\n",
    "# Check and print existing columns\n",
    "print(\"Existing columns:\", df.columns)\n",
    "\n",
    "# Check for 'fuel_type' and rename if necessary\n",
    "if 'fuel type' in df.columns:  # Example: correcting if there's a space\n",
    "    df.rename(columns={'fuel type': 'fuel_type'}, inplace=True)\n",
    "elif 'fuel_type' not in df.columns:\n",
    "    print(\"Column 'fuel_type' not found, please check the column names.\")\n",
    "    print(\"Available columns:\", df.columns)\n",
    "\n",
    "# Specify categorical columns for label encoding\n",
    "label_cols = ['fuel_type', 'other_column']  # Include other categorical columns here\n",
    "label_encoders = {}\n",
    "\n",
    "# Perform label encoding\n",
    "for col in label_cols:\n",
    "    if col in df.columns:  # Check if the column exists before encoding\n",
    "        le = LabelEncoder()\n",
    "        df[col] = le.fit_transform(df[col].astype(str))\n",
    "        label_encoders[col] = le\n",
    "    else:\n",
    "        print(f\"Column '{col}' does not exist in the DataFrame.\")\n",
    "\n",
    "# Save the modified DataFrame to a new CSV file\n",
    "output_file_path = 'C:\\\\Users\\\\sonur\\\\OneDrive\\\\Desktop\\\\Car_Dheko\\\\Model_Eva.csv'\n",
    "df.to_csv(output_file_path, index=False)\n",
    "print(f\"Modified data saved to {output_file_path}\")\n"
   ]
  }
 ],
 "metadata": {
  "kernelspec": {
   "display_name": "Python 3",
   "language": "python",
   "name": "python3"
  },
  "language_info": {
   "codemirror_mode": {
    "name": "ipython",
    "version": 3
   },
   "file_extension": ".py",
   "mimetype": "text/x-python",
   "name": "python",
   "nbconvert_exporter": "python",
   "pygments_lexer": "ipython3",
   "version": "3.12.3"
  }
 },
 "nbformat": 4,
 "nbformat_minor": 2
}
